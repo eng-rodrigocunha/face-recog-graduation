{
 "cells": [
  {
   "cell_type": "code",
   "execution_count": null,
   "metadata": {},
   "outputs": [],
   "source": [
    "import face_recognition\n",
    "import numpy as np\n",
    "import pandas as pd\n",
    "import glob\n",
    "import shutil\n",
    "\n",
    "# Carrega a imagem de referência do rosto da pessoa\n",
    "person_image = face_recognition.load_image_file('FACE.JPG')\n",
    "person_face_encoding = face_recognition.face_encodings(person_image)[0]\n",
    "\n",
    "# Cria uma lista com o face encoding e nomes\n",
    "known_face_encodings = [\n",
    "    person_face_encoding\n",
    "]\n",
    "known_face_names = [\n",
    "    'Rodrigo Cunha'\n",
    "]\n",
    "print('Learned encoding for', len(known_face_encodings), 'images.')"
   ]
  },
  {
   "cell_type": "code",
   "execution_count": null,
   "metadata": {},
   "outputs": [],
   "source": [
    "#Cria lista com todos os arquivos a serem analisados\n",
    "files_list = list(glob.iglob('E:\\\\Rodrigo\\\\RECONHECIMENTO FACIAL\\\\FOTOS\\\\FOTOS\\\\*.JPG', recursive = True))\n",
    "\n",
    "#Transforma a lista em dataframe\n",
    "df_files = pd.DataFrame(files_list, columns = ['filename'])\n",
    "df_files['known_faces'] = np.nan\n",
    "df_files"
   ]
  },
  {
   "cell_type": "code",
   "execution_count": null,
   "metadata": {},
   "outputs": [],
   "source": [
    "#Compara todos os rostos em cada um dos arquivos com os rostos na lista known_face_encodings\n",
    "for index, file in df_files[df_files['known_faces'].isna()].iterrows():\n",
    "    print(file['filename'])\n",
    "    # Carrega a imagem com os rostos desconhecidos\n",
    "    unknown_image = face_recognition.load_image_file(file['filename'])\n",
    "\n",
    "    # Localiza todos os rostos e face encodings na imagem\n",
    "    face_locations = face_recognition.face_locations(unknown_image)\n",
    "    face_encodings = face_recognition.face_encodings(unknown_image, face_locations)\n",
    "\n",
    "    # Realiza loop em cada rosto na imagem\n",
    "    for face_encoding in face_encodings:\n",
    "        # Compara se o rosto combina com algum dos rostos conhecidos na lista known_face_encodings\n",
    "        matches = face_recognition.compare_faces(known_face_encodings, face_encoding)\n",
    "\n",
    "        name = \"Unknown\"\n",
    "\n",
    "        # Ou compara a face_distance dos rostos conhecidos\n",
    "        face_distances = face_recognition.face_distance(known_face_encodings, face_encoding)\n",
    "        best_match_index = np.argmin(face_distances)\n",
    "        if matches[best_match_index]:\n",
    "            name = known_face_names[best_match_index]\n",
    "\n",
    "        # Se o rosto for identificado, altera o dataframe e copia o arquivo para outra pasta\n",
    "        if(name in known_face_names):\n",
    "            df_files.at[index,'known_faces'] = name\n",
    "            n_filename = file['filename'].split('\\\\')\n",
    "            n_filename = n_filename[-1]\n",
    "            shutil.copyfile(file['filename'], f'E:\\\\Rodrigo\\\\RECONHECIMENTO FACIAL\\\\FOTOS\\\\FOTOS_FILT\\\\{n_filename}')\n",
    "            print(f'O arquivo {n_filename} foi copiado')\n",
    "            break\n",
    "    \n",
    "    # Se o rosto não for identificado, insere False na colua 'known_faces'\n",
    "    df_files.at[index,'known_faces'] = False\n"
   ]
  },
  {
   "cell_type": "code",
   "execution_count": null,
   "metadata": {},
   "outputs": [],
   "source": [
    "# Salva o dataframe df_files em arquivo\n",
    "df_files.to_csv('files.csv', sep=';', encoding='Windows-1252', index=False)\n",
    "df_files"
   ]
  }
 ],
 "metadata": {
  "kernelspec": {
   "display_name": "Python 3.9.13 ('ambiente')",
   "language": "python",
   "name": "python3"
  },
  "language_info": {
   "codemirror_mode": {
    "name": "ipython",
    "version": 3
   },
   "file_extension": ".py",
   "mimetype": "text/x-python",
   "name": "python",
   "nbconvert_exporter": "python",
   "pygments_lexer": "ipython3",
   "version": "3.9.13"
  },
  "orig_nbformat": 4,
  "vscode": {
   "interpreter": {
    "hash": "b07a845a3611fece4ff8490e2a5834dd9c2201b19677aecafb9ced361c56caea"
   }
  }
 },
 "nbformat": 4,
 "nbformat_minor": 2
}
